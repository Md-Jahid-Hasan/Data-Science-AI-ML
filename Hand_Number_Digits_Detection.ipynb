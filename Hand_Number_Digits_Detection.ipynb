{
  "nbformat": 4,
  "nbformat_minor": 0,
  "metadata": {
    "accelerator": "GPU",
    "colab": {
      "name": "Hand Number Digits Detection.ipynb",
      "provenance": [],
      "authorship_tag": "ABX9TyO9/Tz+kYO02OffJ+cGJctp",
      "include_colab_link": true
    },
    "kernelspec": {
      "display_name": "Python 3",
      "name": "python3"
    },
    "language_info": {
      "name": "python"
    }
  },
  "cells": [
    {
      "cell_type": "markdown",
      "metadata": {
        "id": "view-in-github",
        "colab_type": "text"
      },
      "source": [
        "<a href=\"https://colab.research.google.com/github/Md-Jahid-Hasan/Data-Science-AI-ML/blob/master/Hand_Number_Digits_Detection.ipynb\" target=\"_parent\"><img src=\"https://colab.research.google.com/assets/colab-badge.svg\" alt=\"Open In Colab\"/></a>"
      ]
    },
    {
      "cell_type": "code",
      "metadata": {
        "id": "Gv6LGi6MxxBj"
      },
      "source": [
        "import torch\n",
        "import numpy as np\n",
        "import torchvision\n",
        "import torch.nn as nn\n",
        "from torchvision import transforms\n",
        "import torch.nn.functional as F\n",
        "import torch.optim as optim\n",
        "from torch.utils.data import DataLoader, Dataset\n",
        "\n",
        "if torch.cuda.is_available():\n",
        "    device = torch.device(\"cuda:0\")"
      ],
      "execution_count": null,
      "outputs": []
    },
    {
      "cell_type": "code",
      "metadata": {
        "colab": {
          "base_uri": "https://localhost:8080/"
        },
        "id": "FfOaC0AX0cU2",
        "outputId": "bf38905e-7c3b-466a-f956-537821861933"
      },
      "source": [
        "from google.colab import drive\n",
        "drive.mount('/content/gdrive')"
      ],
      "execution_count": null,
      "outputs": [
        {
          "output_type": "stream",
          "name": "stdout",
          "text": [
            "Mounted at /content/gdrive\n"
          ]
        }
      ]
    },
    {
      "cell_type": "code",
      "metadata": {
        "id": "MMcaVFymOjLO"
      },
      "source": [
        "batch_size = 25\n",
        "learning_rate = 0.001\n",
        "num_epochs = 50\n",
        "\n",
        "transform = transforms.Compose(\n",
        "    [transforms.ToTensor(),\n",
        "     transforms.Normalize((0.5, 0.5, 0.5), (0.5, 0.5, 0.5))])"
      ],
      "execution_count": null,
      "outputs": []
    },
    {
      "cell_type": "code",
      "metadata": {
        "id": "LINXHCIv0j-l"
      },
      "source": [
        "class CollectData(Dataset):\n",
        "    def __init__(self, x):\n",
        "        self.X = x\n",
        "        \n",
        "    def __len__(self):\n",
        "        return len(self.X)\n",
        "    def __getitem__(self, index):\n",
        "        label = torch.tensor(self.X[index][1])\n",
        "        img = transform(self.X[index][0])\n",
        "        return (img, label)"
      ],
      "execution_count": null,
      "outputs": []
    },
    {
      "cell_type": "code",
      "metadata": {
        "id": "qXS2oRiV0urU"
      },
      "source": [
        "training_data = np.load('gdrive/My Drive/Colab Notebooks/Dataset/handNumber_train_data.npy', allow_pickle=True)\n",
        "test_data = np.load('gdrive/My Drive/Colab Notebooks/Dataset/handNumber_test_data.npy', allow_pickle=True)"
      ],
      "execution_count": null,
      "outputs": []
    },
    {
      "cell_type": "code",
      "metadata": {
        "colab": {
          "base_uri": "https://localhost:8080/"
        },
        "id": "XX0-BZBUKrHV",
        "outputId": "6bc4fa69-340d-4a89-b7e8-7e54458cfecd"
      },
      "source": [
        "test_data.shape"
      ],
      "execution_count": null,
      "outputs": [
        {
          "output_type": "execute_result",
          "data": {
            "text/plain": [
              "(3600, 2)"
            ]
          },
          "metadata": {},
          "execution_count": 38
        }
      ]
    },
    {
      "cell_type": "code",
      "metadata": {
        "id": "zGYXvLoKK7Pj"
      },
      "source": [
        "train_dataset = CollectData(training_data)\n",
        "test_dataset = CollectData(test_data)"
      ],
      "execution_count": null,
      "outputs": []
    },
    {
      "cell_type": "code",
      "metadata": {
        "colab": {
          "base_uri": "https://localhost:8080/"
        },
        "id": "t1XYTr_JNZy1",
        "outputId": "47ae599e-553c-404e-d6ca-6ecfed322361"
      },
      "source": [
        "len(train_dataset)\n"
      ],
      "execution_count": null,
      "outputs": [
        {
          "output_type": "execute_result",
          "data": {
            "text/plain": [
              "18000"
            ]
          },
          "metadata": {},
          "execution_count": 40
        }
      ]
    },
    {
      "cell_type": "code",
      "metadata": {
        "colab": {
          "base_uri": "https://localhost:8080/"
        },
        "id": "SjUDCMLKNfVL",
        "outputId": "f4a50abc-f96b-4d77-e8fe-b10c826b9e90"
      },
      "source": [
        "len(test_dataset)"
      ],
      "execution_count": null,
      "outputs": [
        {
          "output_type": "execute_result",
          "data": {
            "text/plain": [
              "3600"
            ]
          },
          "metadata": {},
          "execution_count": 41
        }
      ]
    },
    {
      "cell_type": "code",
      "metadata": {
        "id": "OTuX2UypNhML"
      },
      "source": [
        "train_loader = torch.utils.data.DataLoader(train_dataset, batch_size=batch_size,\n",
        "                                             shuffle=True)\n",
        "test_loader = torch.utils.data.DataLoader(test_dataset, batch_size=batch_size,\n",
        "                                             shuffle=True)"
      ],
      "execution_count": null,
      "outputs": []
    },
    {
      "cell_type": "code",
      "metadata": {
        "id": "X5Oa77uHO7ST"
      },
      "source": [
        "class CNN(nn.Module):\n",
        "\n",
        "    def __init__(self):\n",
        "        super(CNN, self).__init__()\n",
        "        self.conv1 = nn.Conv2d(3, 64, 3, padding='same')\n",
        "        self.pool = nn.MaxPool2d(2,2)\n",
        "        self.conv2 = nn.Conv2d(64, 128, 3, padding='same')\n",
        "        self.conv3 = nn.Conv2d(128, 256, 3, padding='same')\n",
        "        self.fc1 = nn.Linear(256*4*4, 256)\n",
        "        self.fc2 = nn.Linear(256, 128)\n",
        "        self.fc3 = nn.Linear(128, 12)\n",
        "    \n",
        "    def forward(self, x):\n",
        "        x = self.pool(F.relu(self.conv1(x)))\n",
        "        x = self.pool(F.relu(self.conv2(x)))\n",
        "        x = self.pool(F.relu(self.conv3(x)))\n",
        "\n",
        "        x = x.view(-1, 256*4*4)\n",
        "        x = F.relu(self.fc1(x))\n",
        "        x = F.relu(self.fc2(x))\n",
        "        x = self.fc3(x)\n",
        "        return x"
      ],
      "execution_count": null,
      "outputs": []
    },
    {
      "cell_type": "code",
      "metadata": {
        "id": "_8Z136T1hQex"
      },
      "source": [
        "model = CNN().to(device)\n",
        "criterion = nn.CrossEntropyLoss()\n",
        "optimizer = torch.optim.SGD(model.parameters(), lr=learning_rate)"
      ],
      "execution_count": null,
      "outputs": []
    },
    {
      "cell_type": "code",
      "metadata": {
        "colab": {
          "base_uri": "https://localhost:8080/"
        },
        "id": "vYThPUgXhoER",
        "outputId": "4323f7bd-a34c-4afe-a5fe-f68c80f7ffd4"
      },
      "source": [
        "total_steps = len(train_loader)\n",
        "for epoch in range(num_epochs):\n",
        "    for i, (image, labels) in enumerate(train_loader):\n",
        "        output = model(image.to(device)).to(device)\n",
        "        # print(labels)\n",
        "        # break\n",
        "        loss = criterion(output, labels.to(device))\n",
        "\n",
        "        optimizer.zero_grad()\n",
        "        loss.backward()\n",
        "        optimizer.step()\n",
        "    print(f'Epoch: {epoch} Loss: {loss}')"
      ],
      "execution_count": null,
      "outputs": [
        {
          "output_type": "stream",
          "name": "stdout",
          "text": [
            "Epoch: 0 Loss: 2.4734673500061035\n",
            "Epoch: 1 Loss: 2.4915812015533447\n",
            "Epoch: 2 Loss: 2.487149715423584\n",
            "Epoch: 3 Loss: 2.480733871459961\n",
            "Epoch: 4 Loss: 2.491262674331665\n",
            "Epoch: 5 Loss: 2.475123643875122\n",
            "Epoch: 6 Loss: 2.4701101779937744\n",
            "Epoch: 7 Loss: 2.476919412612915\n",
            "Epoch: 8 Loss: 2.4805376529693604\n",
            "Epoch: 9 Loss: 2.476950168609619\n",
            "Epoch: 10 Loss: 2.4841675758361816\n",
            "Epoch: 11 Loss: 2.465271472930908\n",
            "Epoch: 12 Loss: 2.4706974029541016\n",
            "Epoch: 13 Loss: 2.4707868099212646\n",
            "Epoch: 14 Loss: 2.4633140563964844\n",
            "Epoch: 15 Loss: 2.459681749343872\n",
            "Epoch: 16 Loss: 2.454498291015625\n",
            "Epoch: 17 Loss: 2.4324965476989746\n",
            "Epoch: 18 Loss: 2.4153859615325928\n",
            "Epoch: 19 Loss: 2.349759101867676\n",
            "Epoch: 20 Loss: 2.2640154361724854\n",
            "Epoch: 21 Loss: 2.020455837249756\n",
            "Epoch: 22 Loss: 1.6456999778747559\n",
            "Epoch: 23 Loss: 1.223951816558838\n",
            "Epoch: 24 Loss: 0.8475494384765625\n",
            "Epoch: 25 Loss: 0.6783384680747986\n",
            "Epoch: 26 Loss: 0.3632281422615051\n",
            "Epoch: 27 Loss: 0.30076807737350464\n",
            "Epoch: 28 Loss: 0.18381881713867188\n",
            "Epoch: 29 Loss: 0.3010546863079071\n",
            "Epoch: 30 Loss: 0.313935250043869\n",
            "Epoch: 31 Loss: 0.1305067539215088\n",
            "Epoch: 32 Loss: 0.12907171249389648\n",
            "Epoch: 33 Loss: 0.10361404716968536\n",
            "Epoch: 34 Loss: 0.031687259674072266\n",
            "Epoch: 35 Loss: 0.08976490795612335\n",
            "Epoch: 36 Loss: 0.09408280998468399\n",
            "Epoch: 37 Loss: 0.025500159710645676\n",
            "Epoch: 38 Loss: 0.03278133273124695\n",
            "Epoch: 39 Loss: 0.0067427135072648525\n",
            "Epoch: 40 Loss: 0.038388051092624664\n",
            "Epoch: 41 Loss: 0.023709170520305634\n",
            "Epoch: 42 Loss: 0.049707911908626556\n",
            "Epoch: 43 Loss: 0.020964883267879486\n",
            "Epoch: 44 Loss: 0.007496904581785202\n",
            "Epoch: 45 Loss: 0.009410005062818527\n",
            "Epoch: 46 Loss: 0.06457166373729706\n",
            "Epoch: 47 Loss: 0.012338169850409031\n",
            "Epoch: 48 Loss: 0.00793563760817051\n",
            "Epoch: 49 Loss: 0.010324781760573387\n"
          ]
        }
      ]
    },
    {
      "cell_type": "code",
      "metadata": {
        "colab": {
          "base_uri": "https://localhost:8080/"
        },
        "id": "TTZrhUBEf1mt",
        "outputId": "4d1b1903-3251-4f12-b19b-f84a78f7f7d2"
      },
      "source": [
        "with torch.no_grad():\n",
        "    n_correct = 0\n",
        "    n_samples = 0\n",
        "    n_class_correct = [0 for i in range(12)]\n",
        "    n_class_samples = [0 for i in range(12)]\n",
        "\n",
        "    for image, labels in test_loader:\n",
        "        labels = labels.to(device)\n",
        "        output = model(image.to(device)).to(device)\n",
        "        _, predicted = torch.max(output, 1)\n",
        "        n_samples += labels.size(0)\n",
        "        n_correct += (predicted == labels).sum().item()\n",
        "        print(n_samples, n_correct)\n",
        "        break"
      ],
      "execution_count": null,
      "outputs": [
        {
          "output_type": "stream",
          "name": "stdout",
          "text": [
            "25 2\n"
          ]
        }
      ]
    },
    {
      "cell_type": "code",
      "metadata": {
        "id": "GQreycpyRHKa"
      },
      "source": [
        "conv1 = nn.Conv2d(3, 64, 3, padding='same')\n",
        "pool = nn.MaxPool2d(2,2)\n",
        "conv2 = nn.Conv2d(64, 128, 3, padding='same')\n",
        "conv3 = nn.Conv2d(128, 256, 3, padding='same')"
      ],
      "execution_count": null,
      "outputs": []
    },
    {
      "cell_type": "code",
      "metadata": {
        "id": "CYuIbgjaZWL-"
      },
      "source": [
        "dataiter = iter(train_loader)\n",
        "images, labels = dataiter.next()"
      ],
      "execution_count": null,
      "outputs": []
    },
    {
      "cell_type": "code",
      "metadata": {
        "colab": {
          "base_uri": "https://localhost:8080/"
        },
        "id": "F6LqhN5-bv_m",
        "outputId": "7af04688-c0f1-48fc-a8e6-e00ba7c2d2f1"
      },
      "source": [
        "images.shape"
      ],
      "execution_count": null,
      "outputs": [
        {
          "data": {
            "text/plain": [
              "torch.Size([25, 3, 32, 32])"
            ]
          },
          "execution_count": 57,
          "metadata": {},
          "output_type": "execute_result"
        }
      ]
    },
    {
      "cell_type": "code",
      "metadata": {
        "colab": {
          "base_uri": "https://localhost:8080/"
        },
        "id": "q0NM5xFiZnN1",
        "outputId": "e6fe2377-3684-4486-921a-42261ce8bb3c"
      },
      "source": [
        "x = conv1(images)\n",
        "print(x.shape)\n",
        "x = pool(x)\n",
        "print(x.shape)\n",
        "x = conv2(x)\n",
        "print(x.shape)\n",
        "x = pool(x)\n",
        "print(x.shape)\n",
        "x = conv3(x)\n",
        "print(x.shape)\n",
        "x = pool(x)\n",
        "print(x.shape)"
      ],
      "execution_count": null,
      "outputs": [
        {
          "name": "stdout",
          "output_type": "stream",
          "text": [
            "torch.Size([25, 64, 32, 32])\n",
            "torch.Size([25, 64, 16, 16])\n",
            "torch.Size([25, 128, 16, 16])\n",
            "torch.Size([25, 128, 8, 8])\n",
            "torch.Size([25, 256, 8, 8])\n",
            "torch.Size([25, 256, 4, 4])\n"
          ]
        },
        {
          "name": "stderr",
          "output_type": "stream",
          "text": [
            "/usr/local/lib/python3.7/dist-packages/torch/nn/functional.py:718: UserWarning: Named tensors and all their associated APIs are an experimental feature and subject to change. Please do not use them for anything important until they are released as stable. (Triggered internally at  /pytorch/c10/core/TensorImpl.h:1156.)\n",
            "  return torch.max_pool2d(input, kernel_size, stride, padding, dilation, ceil_mode)\n"
          ]
        }
      ]
    },
    {
      "cell_type": "code",
      "metadata": {
        "colab": {
          "base_uri": "https://localhost:8080/"
        },
        "id": "Fko3hAjZbgaU",
        "outputId": "84886956-3405-4326-b9c7-a9444741a05b"
      },
      "source": [
        ""
      ],
      "execution_count": null,
      "outputs": [
        {
          "name": "stdout",
          "output_type": "stream",
          "text": [
            "1\n"
          ]
        }
      ]
    },
    {
      "cell_type": "code",
      "metadata": {
        "id": "50NJBpNmxJN4",
        "colab": {
          "base_uri": "https://localhost:8080/"
        },
        "outputId": "d7fb5fe0-c5b2-4332-c1ac-0ad86236190f"
      },
      "source": [
        ""
      ],
      "execution_count": null,
      "outputs": [
        {
          "output_type": "execute_result",
          "data": {
            "text/plain": [
              "[0, 0]"
            ]
          },
          "metadata": {},
          "execution_count": 2
        }
      ]
    },
    {
      "cell_type": "code",
      "metadata": {
        "id": "pHWBLo80eq_W"
      },
      "source": [
        ""
      ],
      "execution_count": null,
      "outputs": []
    }
  ]
}