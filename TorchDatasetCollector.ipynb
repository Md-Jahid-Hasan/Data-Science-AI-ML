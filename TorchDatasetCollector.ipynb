{
  "nbformat": 4,
  "nbformat_minor": 0,
  "metadata": {
    "colab": {
      "name": "TorchDatasetCollector.ipynb",
      "provenance": [],
      "authorship_tag": "ABX9TyNi5ATXZYFoaagF0RSd2bw6",
      "include_colab_link": true
    },
    "kernelspec": {
      "name": "python3",
      "display_name": "Python 3"
    },
    "language_info": {
      "name": "python"
    }
  },
  "cells": [
    {
      "cell_type": "markdown",
      "metadata": {
        "id": "view-in-github",
        "colab_type": "text"
      },
      "source": [
        "<a href=\"https://colab.research.google.com/github/Md-Jahid-Hasan/Data-Science-AI-ML/blob/master/TorchDatasetCollector.ipynb\" target=\"_parent\"><img src=\"https://colab.research.google.com/assets/colab-badge.svg\" alt=\"Open In Colab\"/></a>"
      ]
    },
    {
      "cell_type": "code",
      "metadata": {
        "id": "m0n8icw4rjTq"
      },
      "source": [
        "import os\n",
        "import numpy as np\n",
        "from tqdm import tqdm\n",
        "import pandas as pd\n",
        "import torch\n",
        "from torch.utils.data import Dataset\n",
        "from skimage import io"
      ],
      "execution_count": null,
      "outputs": []
    },
    {
      "cell_type": "code",
      "metadata": {
        "id": "TQNlOTVer-x3"
      },
      "source": [
        "class CollectData(Dataset):\n",
        "    def __init__(self, directory):\n",
        "        self.directory = directory\n",
        "        self.data = self.get_data()\n",
        "        \n",
        "    def __len__(self):\n",
        "        return len(self.data)\n",
        "    \n",
        "    def __getitem__(self, index):\n",
        "        img_path = os.path.join(self.directory, self.data.iloc[index, 0])\n",
        "        image = io.imread(img_path)\n",
        "        label = torch.tensor(int(self.data.iloc[index, 1]))\n",
        "        \n",
        "        return (image, label)\n",
        "        \n",
        "        \n",
        "    \n",
        "    def get_data(self):\n",
        "        create_datset = True\n",
        "        labels = []\n",
        "        path = []\n",
        "        \n",
        "        for id, folder_name in tqdm(enumerate(os.scandir(self.directory))):\n",
        "            print(id)\n",
        "            if folder_name.name == \"dataset.csv\":\n",
        "                create_datset = False\n",
        "\n",
        "            if folder_name.is_dir():\n",
        "                for file in os.listdir(folder_name):\n",
        "                    path.append(f\"{folder_name.name}\\{file}\")\n",
        "                    labels.append(id)\n",
        "\n",
        "\n",
        "        if create_datset:\n",
        "            data = {\"image\":path, \"label\":labels}\n",
        "            df = pd.DataFrame(data)\n",
        "            df.to_csv(f\"{self.directory}\\dataset.csv\", header=False, index=False)\n",
        "            \n",
        "        return pd.read_csv(f\"{self.directory}\\dataset.csv\")\n",
        "        \n",
        "        \n",
        "        \n",
        "    "
      ],
      "execution_count": null,
      "outputs": []
    },
    {
      "cell_type": "code",
      "metadata": {
        "id": "cj7TA2Cxup6e"
      },
      "source": [
        "class PrepareTorchData():\n",
        "    def __init__(self, directory):\n",
        "        self.directory = directory\n",
        "        self.dataset = CollectData(self.directory)\n",
        "        \n",
        "    def __len__(self):\n",
        "        return len(self.dataset)\n",
        "    \n",
        "    def __getitem__(self, index):\n",
        "        return self.dataset[index]\n",
        "    \n",
        "    def save_torch(self):\n",
        "        train_set, test_set = torch.utils.data.random_split(dataset, [20001, 5000])\n",
        "        train_loader = DataLoader(dataset=train_set, batch_size=32, shuffle=True)\n",
        "        test_loader = DataLoader(dataset=test_set, batch_size=32, shuffle=True)\n",
        "        torch.save(train_loader, os.path.join(self.directory,\"train_loader.pt\"))\n",
        "        torch.save(test_loader, os.path.join(self.directory,\"test_loader.pt\"))\n",
        "        print(f\"Train and Test Loader save in {self.directory} this directory\")"
      ],
      "execution_count": null,
      "outputs": []
    },
    {
      "cell_type": "code",
      "metadata": {
        "id": "Jo69RyJTvG1D"
      },
      "source": [
        ""
      ],
      "execution_count": null,
      "outputs": []
    }
  ]
}